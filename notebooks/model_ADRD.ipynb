{
  "cells": [
    {
      "cell_type": "markdown",
      "metadata": {},
      "source": [
        "<h1 align=\"center\">MACHINE LEARNING CLUSTERING MODEL FOR ACCIDENTAL DRUG RELATED DEATHS</h1>"
      ]
    },
    {
      "cell_type": "markdown",
      "metadata": {},
      "source": [
        "After viewing and analyzing the data, we'll create a clustering Machine Learning model. We need to extract, clean, and process the data to find the best model for the clustering job."
      ]
    },
    {
      "cell_type": "markdown",
      "metadata": {},
      "source": [
        "## IMPORTING LIBRARIES"
      ]
    },
    {
      "cell_type": "markdown",
      "metadata": {},
      "source": [
        "We'll import the necessary libraries for preprocessing, training and evaluating the Machine Learning clustering model:"
      ]
    },
    {
      "cell_type": "code",
      "execution_count": 1,
      "metadata": {
        "id": "_qGPkBv3k052"
      },
      "outputs": [],
      "source": [
        "import os\n",
        "import warnings\n",
        "import pandas as pd\n",
        "import numpy as np\n",
        "import umap\n",
        "import math\n",
        "from scipy.stats import randint, uniform\n",
        "from scipy.spatial.distance import cdist\n",
        "from sklearn.decomposition import PCA\n",
        "from sklearn.preprocessing import StandardScaler\n",
        "from sklearn.preprocessing import LabelEncoder\n",
        "from sklearn.cluster import KMeans, DBSCAN, AgglomerativeClustering, SpectralClustering\n",
        "from sklearn.model_selection import RandomizedSearchCV\n",
        "from sklearn.mixture import GaussianMixture\n",
        "from sklearn.metrics import silhouette_score\n",
        "from minisom import MiniSom\n",
        "from time import time\n",
        "import joblib\n",
        "import matplotlib.pyplot as plt"
      ]
    },
    {
      "cell_type": "code",
      "execution_count": 2,
      "metadata": {
        "id": "fTaT2stwk05-"
      },
      "outputs": [],
      "source": [
        "pd.set_option('display.max_columns', None)\n",
        "warnings.filterwarnings(\"ignore\")"
      ]
    },
    {
      "cell_type": "markdown",
      "metadata": {},
      "source": [
        "## EXTRACTING THE DATA"
      ]
    },
    {
      "cell_type": "markdown",
      "metadata": {},
      "source": [
        "Let's read csv file for construct our model:"
      ]
    },
    {
      "cell_type": "code",
      "execution_count": 3,
      "metadata": {
        "id": "DGgmDoShk05_"
      },
      "outputs": [],
      "source": [
        "project_dir = os.path.abspath(os.path.join(os.getcwd(), os.pardir))\n",
        "data_dir = os.path.join(project_dir, \"data\", \"processed\")\n",
        "path = os.path.join(data_dir, 'df_to_ml.csv')\n",
        "data = pd.read_csv(path)\n",
        "df= pd.DataFrame(data)"
      ]
    },
    {
      "cell_type": "code",
      "execution_count": 4,
      "metadata": {
        "id": "8X_G_ypSk06A",
        "outputId": "d77c10f7-80f4-4fb9-d436-a4fcf89297e6"
      },
      "outputs": [
        {
          "data": {
            "application/vnd.microsoft.datawrangler.viewer.v0+json": {
              "columns": [
                {
                  "name": "index",
                  "rawType": "int64",
                  "type": "integer"
                },
                {
                  "name": "Age",
                  "rawType": "float64",
                  "type": "float"
                },
                {
                  "name": "Sex",
                  "rawType": "object",
                  "type": "string"
                },
                {
                  "name": "Residence County",
                  "rawType": "object",
                  "type": "string"
                },
                {
                  "name": "Injury City",
                  "rawType": "object",
                  "type": "string"
                },
                {
                  "name": "Injury County",
                  "rawType": "object",
                  "type": "string"
                },
                {
                  "name": "Death City",
                  "rawType": "object",
                  "type": "string"
                },
                {
                  "name": "Death County",
                  "rawType": "object",
                  "type": "string"
                },
                {
                  "name": "Location",
                  "rawType": "object",
                  "type": "string"
                },
                {
                  "name": "Heroin",
                  "rawType": "object",
                  "type": "string"
                },
                {
                  "name": "Cocaine",
                  "rawType": "object",
                  "type": "string"
                },
                {
                  "name": "Fentanyl",
                  "rawType": "object",
                  "type": "string"
                },
                {
                  "name": "Oxycodone",
                  "rawType": "object",
                  "type": "string"
                },
                {
                  "name": "Oxymorphone",
                  "rawType": "object",
                  "type": "string"
                },
                {
                  "name": "Ethanol",
                  "rawType": "object",
                  "type": "string"
                },
                {
                  "name": "Hydrocodone",
                  "rawType": "object",
                  "type": "string"
                },
                {
                  "name": "Benzodiazepine",
                  "rawType": "object",
                  "type": "string"
                },
                {
                  "name": "Methadone",
                  "rawType": "object",
                  "type": "string"
                },
                {
                  "name": "Meth/Amphetamine",
                  "rawType": "object",
                  "type": "string"
                },
                {
                  "name": "Amphet",
                  "rawType": "object",
                  "type": "string"
                },
                {
                  "name": "Tramad",
                  "rawType": "object",
                  "type": "string"
                },
                {
                  "name": "Hydromorphone",
                  "rawType": "object",
                  "type": "string"
                },
                {
                  "name": "Morphine (Not Heroin)",
                  "rawType": "object",
                  "type": "string"
                },
                {
                  "name": "Xylazine",
                  "rawType": "object",
                  "type": "string"
                },
                {
                  "name": "Gabapentin",
                  "rawType": "object",
                  "type": "string"
                },
                {
                  "name": "Opiate NOS",
                  "rawType": "object",
                  "type": "string"
                },
                {
                  "name": "Heroin/Morph/Codeine",
                  "rawType": "object",
                  "type": "string"
                },
                {
                  "name": "Day",
                  "rawType": "float64",
                  "type": "float"
                },
                {
                  "name": "Resid_City_Coord_Lat",
                  "rawType": "float64",
                  "type": "float"
                },
                {
                  "name": "Resid_City_Coord_Lon",
                  "rawType": "float64",
                  "type": "float"
                },
                {
                  "name": "Injury_City_Coord_Lat",
                  "rawType": "float64",
                  "type": "float"
                },
                {
                  "name": "Injury_City_Coord_Lon",
                  "rawType": "float64",
                  "type": "float"
                },
                {
                  "name": "Death_City_Coord_Lat",
                  "rawType": "float64",
                  "type": "float"
                },
                {
                  "name": "Death_City_Coord_Lon",
                  "rawType": "float64",
                  "type": "float"
                }
              ],
              "conversionMethod": "pd.DataFrame",
              "ref": "7b6a2528-3b13-4b5f-b0f2-f075416092a0",
              "rows": [
                [
                  "2087",
                  "21.0",
                  "Female",
                  "HARTFORD",
                  "WEST HARTFORD",
                  "UNKNOWN",
                  "WEST HARTFORD",
                  "HARTFORD",
                  "House, Apartment, Residence or Decedent’s Home",
                  "Y",
                  "N",
                  "N",
                  "N",
                  "N",
                  "N",
                  "N",
                  "N",
                  "N",
                  "N",
                  "N",
                  "N",
                  "N",
                  "N",
                  "N",
                  "N",
                  "N",
                  "N",
                  "12.0",
                  "41.762008",
                  "-72.741807",
                  "41.762008",
                  "-72.741807",
                  "41.762008",
                  "-72.741807"
                ],
                [
                  "11072",
                  "34.0",
                  "Male",
                  "TOLLAND",
                  "BOLTON",
                  "TOLLAND",
                  "UNKNOWN",
                  "UNKNOWN",
                  "Other or Unknown",
                  "N",
                  "Y",
                  "Y",
                  "N",
                  "N",
                  "N",
                  "N",
                  "N",
                  "N",
                  "N",
                  "N",
                  "N",
                  "N",
                  "N",
                  "Y",
                  "N",
                  "Y",
                  "N",
                  "27.0",
                  "41.769119",
                  "-72.433416",
                  "41.769119",
                  "-72.433416",
                  "41.57350273",
                  "-72.738305908"
                ],
                [
                  "745",
                  "63.0",
                  "Male",
                  "UNKNOWN",
                  "MONTVILLE",
                  "NEW LONDON",
                  "MONTVILLE",
                  "UNKNOWN",
                  "House, Apartment, Residence or Decedent’s Home",
                  "N",
                  "N",
                  "N",
                  "N",
                  "N",
                  "N",
                  "N",
                  "N",
                  "N",
                  "Y",
                  "N",
                  "N",
                  "N",
                  "N",
                  "N",
                  "N",
                  "N",
                  "N",
                  "9.0",
                  "41.45303",
                  "-72.136336",
                  "41.45303",
                  "-72.136336",
                  "41.45303",
                  "-72.136336"
                ]
              ],
              "shape": {
                "columns": 33,
                "rows": 3
              }
            },
            "text/html": [
              "<div>\n",
              "<style scoped>\n",
              "    .dataframe tbody tr th:only-of-type {\n",
              "        vertical-align: middle;\n",
              "    }\n",
              "\n",
              "    .dataframe tbody tr th {\n",
              "        vertical-align: top;\n",
              "    }\n",
              "\n",
              "    .dataframe thead th {\n",
              "        text-align: right;\n",
              "    }\n",
              "</style>\n",
              "<table border=\"1\" class=\"dataframe\">\n",
              "  <thead>\n",
              "    <tr style=\"text-align: right;\">\n",
              "      <th></th>\n",
              "      <th>Age</th>\n",
              "      <th>Sex</th>\n",
              "      <th>Residence County</th>\n",
              "      <th>Injury City</th>\n",
              "      <th>Injury County</th>\n",
              "      <th>Death City</th>\n",
              "      <th>Death County</th>\n",
              "      <th>Location</th>\n",
              "      <th>Heroin</th>\n",
              "      <th>Cocaine</th>\n",
              "      <th>Fentanyl</th>\n",
              "      <th>Oxycodone</th>\n",
              "      <th>Oxymorphone</th>\n",
              "      <th>Ethanol</th>\n",
              "      <th>Hydrocodone</th>\n",
              "      <th>Benzodiazepine</th>\n",
              "      <th>Methadone</th>\n",
              "      <th>Meth/Amphetamine</th>\n",
              "      <th>Amphet</th>\n",
              "      <th>Tramad</th>\n",
              "      <th>Hydromorphone</th>\n",
              "      <th>Morphine (Not Heroin)</th>\n",
              "      <th>Xylazine</th>\n",
              "      <th>Gabapentin</th>\n",
              "      <th>Opiate NOS</th>\n",
              "      <th>Heroin/Morph/Codeine</th>\n",
              "      <th>Day</th>\n",
              "      <th>Resid_City_Coord_Lat</th>\n",
              "      <th>Resid_City_Coord_Lon</th>\n",
              "      <th>Injury_City_Coord_Lat</th>\n",
              "      <th>Injury_City_Coord_Lon</th>\n",
              "      <th>Death_City_Coord_Lat</th>\n",
              "      <th>Death_City_Coord_Lon</th>\n",
              "    </tr>\n",
              "  </thead>\n",
              "  <tbody>\n",
              "    <tr>\n",
              "      <th>2087</th>\n",
              "      <td>21.0</td>\n",
              "      <td>Female</td>\n",
              "      <td>HARTFORD</td>\n",
              "      <td>WEST HARTFORD</td>\n",
              "      <td>UNKNOWN</td>\n",
              "      <td>WEST HARTFORD</td>\n",
              "      <td>HARTFORD</td>\n",
              "      <td>House, Apartment, Residence or Decedent’s Home</td>\n",
              "      <td>Y</td>\n",
              "      <td>N</td>\n",
              "      <td>N</td>\n",
              "      <td>N</td>\n",
              "      <td>N</td>\n",
              "      <td>N</td>\n",
              "      <td>N</td>\n",
              "      <td>N</td>\n",
              "      <td>N</td>\n",
              "      <td>N</td>\n",
              "      <td>N</td>\n",
              "      <td>N</td>\n",
              "      <td>N</td>\n",
              "      <td>N</td>\n",
              "      <td>N</td>\n",
              "      <td>N</td>\n",
              "      <td>N</td>\n",
              "      <td>N</td>\n",
              "      <td>12.0</td>\n",
              "      <td>41.762008</td>\n",
              "      <td>-72.741807</td>\n",
              "      <td>41.762008</td>\n",
              "      <td>-72.741807</td>\n",
              "      <td>41.762008</td>\n",
              "      <td>-72.741807</td>\n",
              "    </tr>\n",
              "    <tr>\n",
              "      <th>11072</th>\n",
              "      <td>34.0</td>\n",
              "      <td>Male</td>\n",
              "      <td>TOLLAND</td>\n",
              "      <td>BOLTON</td>\n",
              "      <td>TOLLAND</td>\n",
              "      <td>UNKNOWN</td>\n",
              "      <td>UNKNOWN</td>\n",
              "      <td>Other or Unknown</td>\n",
              "      <td>N</td>\n",
              "      <td>Y</td>\n",
              "      <td>Y</td>\n",
              "      <td>N</td>\n",
              "      <td>N</td>\n",
              "      <td>N</td>\n",
              "      <td>N</td>\n",
              "      <td>N</td>\n",
              "      <td>N</td>\n",
              "      <td>N</td>\n",
              "      <td>N</td>\n",
              "      <td>N</td>\n",
              "      <td>N</td>\n",
              "      <td>N</td>\n",
              "      <td>Y</td>\n",
              "      <td>N</td>\n",
              "      <td>Y</td>\n",
              "      <td>N</td>\n",
              "      <td>27.0</td>\n",
              "      <td>41.769119</td>\n",
              "      <td>-72.433416</td>\n",
              "      <td>41.769119</td>\n",
              "      <td>-72.433416</td>\n",
              "      <td>41.573503</td>\n",
              "      <td>-72.738306</td>\n",
              "    </tr>\n",
              "    <tr>\n",
              "      <th>745</th>\n",
              "      <td>63.0</td>\n",
              "      <td>Male</td>\n",
              "      <td>UNKNOWN</td>\n",
              "      <td>MONTVILLE</td>\n",
              "      <td>NEW LONDON</td>\n",
              "      <td>MONTVILLE</td>\n",
              "      <td>UNKNOWN</td>\n",
              "      <td>House, Apartment, Residence or Decedent’s Home</td>\n",
              "      <td>N</td>\n",
              "      <td>N</td>\n",
              "      <td>N</td>\n",
              "      <td>N</td>\n",
              "      <td>N</td>\n",
              "      <td>N</td>\n",
              "      <td>N</td>\n",
              "      <td>N</td>\n",
              "      <td>N</td>\n",
              "      <td>Y</td>\n",
              "      <td>N</td>\n",
              "      <td>N</td>\n",
              "      <td>N</td>\n",
              "      <td>N</td>\n",
              "      <td>N</td>\n",
              "      <td>N</td>\n",
              "      <td>N</td>\n",
              "      <td>N</td>\n",
              "      <td>9.0</td>\n",
              "      <td>41.453030</td>\n",
              "      <td>-72.136336</td>\n",
              "      <td>41.453030</td>\n",
              "      <td>-72.136336</td>\n",
              "      <td>41.453030</td>\n",
              "      <td>-72.136336</td>\n",
              "    </tr>\n",
              "  </tbody>\n",
              "</table>\n",
              "</div>"
            ],
            "text/plain": [
              "        Age     Sex Residence County    Injury City Injury County  \\\n",
              "2087   21.0  Female         HARTFORD  WEST HARTFORD       UNKNOWN   \n",
              "11072  34.0    Male          TOLLAND         BOLTON       TOLLAND   \n",
              "745    63.0    Male          UNKNOWN      MONTVILLE    NEW LONDON   \n",
              "\n",
              "          Death City Death County  \\\n",
              "2087   WEST HARTFORD     HARTFORD   \n",
              "11072        UNKNOWN      UNKNOWN   \n",
              "745        MONTVILLE      UNKNOWN   \n",
              "\n",
              "                                             Location Heroin Cocaine Fentanyl  \\\n",
              "2087   House, Apartment, Residence or Decedent’s Home      Y       N        N   \n",
              "11072                                Other or Unknown      N       Y        Y   \n",
              "745    House, Apartment, Residence or Decedent’s Home      N       N        N   \n",
              "\n",
              "      Oxycodone Oxymorphone Ethanol Hydrocodone Benzodiazepine Methadone  \\\n",
              "2087          N           N       N           N              N         N   \n",
              "11072         N           N       N           N              N         N   \n",
              "745           N           N       N           N              N         N   \n",
              "\n",
              "      Meth/Amphetamine Amphet Tramad Hydromorphone Morphine (Not Heroin)  \\\n",
              "2087                 N      N      N             N                     N   \n",
              "11072                N      N      N             N                     N   \n",
              "745                  Y      N      N             N                     N   \n",
              "\n",
              "      Xylazine Gabapentin Opiate NOS Heroin/Morph/Codeine   Day  \\\n",
              "2087         N          N          N                    N  12.0   \n",
              "11072        Y          N          Y                    N  27.0   \n",
              "745          N          N          N                    N   9.0   \n",
              "\n",
              "       Resid_City_Coord_Lat  Resid_City_Coord_Lon  Injury_City_Coord_Lat  \\\n",
              "2087              41.762008            -72.741807              41.762008   \n",
              "11072             41.769119            -72.433416              41.769119   \n",
              "745               41.453030            -72.136336              41.453030   \n",
              "\n",
              "       Injury_City_Coord_Lon  Death_City_Coord_Lat  Death_City_Coord_Lon  \n",
              "2087              -72.741807             41.762008            -72.741807  \n",
              "11072             -72.433416             41.573503            -72.738306  \n",
              "745               -72.136336             41.453030            -72.136336  "
            ]
          },
          "execution_count": 4,
          "metadata": {},
          "output_type": "execute_result"
        }
      ],
      "source": [
        "df.sample(3)"
      ]
    },
    {
      "cell_type": "markdown",
      "metadata": {},
      "source": [
        "## DATA PREPROCESSING"
      ]
    },
    {
      "cell_type": "markdown",
      "metadata": {},
      "source": [
        "Let's remove NaN values:"
      ]
    },
    {
      "cell_type": "code",
      "execution_count": 5,
      "metadata": {
        "id": "3Stu1j6Pk06C",
        "outputId": "0cae3f0b-d321-4ed7-b9f3-3a0d09e16d01"
      },
      "outputs": [
        {
          "name": "stdout",
          "output_type": "stream",
          "text": [
            "Age                        2\n",
            "Sex                        0\n",
            "Residence County           0\n",
            "Injury City                0\n",
            "Injury County              0\n",
            "Death City                 0\n",
            "Death County               0\n",
            "Location                   0\n",
            "Heroin                     0\n",
            "Cocaine                    0\n",
            "Fentanyl                   0\n",
            "Oxycodone                  0\n",
            "Oxymorphone                0\n",
            "Ethanol                    0\n",
            "Hydrocodone                0\n",
            "Benzodiazepine             0\n",
            "Methadone                  0\n",
            "Meth/Amphetamine           0\n",
            "Amphet                     0\n",
            "Tramad                     0\n",
            "Hydromorphone              0\n",
            "Morphine (Not Heroin)      0\n",
            "Xylazine                   0\n",
            "Gabapentin                 0\n",
            "Opiate NOS                 0\n",
            "Heroin/Morph/Codeine       0\n",
            "Day                        0\n",
            "Resid_City_Coord_Lat     167\n",
            "Resid_City_Coord_Lon     167\n",
            "Injury_City_Coord_Lat    257\n",
            "Injury_City_Coord_Lon    257\n",
            "Death_City_Coord_Lat       1\n",
            "Death_City_Coord_Lon       1\n",
            "dtype: int64\n",
            "----------------------------------------------------------------------\n"
          ]
        },
        {
          "data": {
            "text/plain": [
              "(11981, 33)"
            ]
          },
          "execution_count": 5,
          "metadata": {},
          "output_type": "execute_result"
        }
      ],
      "source": [
        "print(df.isna().sum())\n",
        "print(\"-\"*70)\n",
        "df.shape"
      ]
    },
    {
      "cell_type": "code",
      "execution_count": 6,
      "metadata": {
        "id": "gSXeuVDDk06D",
        "outputId": "56a3a5af-b0be-41c7-dee1-431c0bdfaee2"
      },
      "outputs": [
        {
          "name": "stdout",
          "output_type": "stream",
          "text": [
            "Age                      0\n",
            "Sex                      0\n",
            "Residence County         0\n",
            "Injury City              0\n",
            "Injury County            0\n",
            "Death City               0\n",
            "Death County             0\n",
            "Location                 0\n",
            "Heroin                   0\n",
            "Cocaine                  0\n",
            "Fentanyl                 0\n",
            "Oxycodone                0\n",
            "Oxymorphone              0\n",
            "Ethanol                  0\n",
            "Hydrocodone              0\n",
            "Benzodiazepine           0\n",
            "Methadone                0\n",
            "Meth/Amphetamine         0\n",
            "Amphet                   0\n",
            "Tramad                   0\n",
            "Hydromorphone            0\n",
            "Morphine (Not Heroin)    0\n",
            "Xylazine                 0\n",
            "Gabapentin               0\n",
            "Opiate NOS               0\n",
            "Heroin/Morph/Codeine     0\n",
            "Day                      0\n",
            "Resid_City_Coord_Lat     0\n",
            "Resid_City_Coord_Lon     0\n",
            "Injury_City_Coord_Lat    0\n",
            "Injury_City_Coord_Lon    0\n",
            "Death_City_Coord_Lat     0\n",
            "Death_City_Coord_Lon     0\n",
            "dtype: int64\n",
            "----------------------------------------------------------------------\n",
            "(11567, 33)\n"
          ]
        }
      ],
      "source": [
        "df.dropna(axis= 0, inplace = True)\n",
        "print(df.isna().sum())\n",
        "print(\"-\"*70)\n",
        "print(df.shape)"
      ]
    },
    {
      "cell_type": "markdown",
      "metadata": {},
      "source": [
        "Now, we define functions to transform categorical variables to numerical, add these new columns, and evaluate them by silhouette score:"
      ]
    },
    {
      "cell_type": "code",
      "execution_count": 7,
      "metadata": {
        "id": "TJcL5ktsk06E"
      },
      "outputs": [],
      "source": [
        "def label_encoder_function(dataframe, column):\n",
        "    column_encoded = le.fit_transform(dataframe[column])\n",
        "    return column_encoded\n",
        "\n",
        "def add_nwe_column(dataframe, column):\n",
        "    dataframe.loc[:,f'{column}_numeric']= label_encoder_function(dataframe, column)\n",
        "    return dataframe\n",
        "\n",
        "def clustering_score(model, X):\n",
        "    try:\n",
        "        labels = model.fit_predict(X)\n",
        "        if isinstance(labels,DBSCAN):\n",
        "            mask = labels != -1\n",
        "            if np.sum(mask) > 1 :\n",
        "                return silhouette_score(X[mask], labels[mask])\n",
        "        else:\n",
        "            return silhouette_score(X, labels)\n",
        "    except Exception as e:\n",
        "        return -1"
      ]
    },
    {
      "cell_type": "markdown",
      "metadata": {},
      "source": [
        "Let's apply the transformation:"
      ]
    },
    {
      "cell_type": "code",
      "execution_count": 8,
      "metadata": {
        "id": "8T76sNmak06G",
        "outputId": "9b66e11c-3d19-4251-9791-05b68497f1c1"
      },
      "outputs": [
        {
          "data": {
            "text/plain": [
              "Index(['Age', 'Sex', 'Residence County', 'Injury City', 'Injury County',\n",
              "       'Death City', 'Death County', 'Location', 'Heroin', 'Cocaine',\n",
              "       'Fentanyl', 'Oxycodone', 'Oxymorphone', 'Ethanol', 'Hydrocodone',\n",
              "       'Benzodiazepine', 'Methadone', 'Meth/Amphetamine', 'Amphet', 'Tramad',\n",
              "       'Hydromorphone', 'Morphine (Not Heroin)', 'Xylazine', 'Gabapentin',\n",
              "       'Opiate NOS', 'Heroin/Morph/Codeine', 'Day', 'Resid_City_Coord_Lat',\n",
              "       'Resid_City_Coord_Lon', 'Injury_City_Coord_Lat',\n",
              "       'Injury_City_Coord_Lon', 'Death_City_Coord_Lat',\n",
              "       'Death_City_Coord_Lon'],\n",
              "      dtype='object')"
            ]
          },
          "execution_count": 8,
          "metadata": {},
          "output_type": "execute_result"
        }
      ],
      "source": [
        "df.columns"
      ]
    },
    {
      "cell_type": "code",
      "execution_count": 9,
      "metadata": {
        "id": "nq36ufzck06H"
      },
      "outputs": [],
      "source": [
        "le= LabelEncoder()"
      ]
    },
    {
      "cell_type": "code",
      "execution_count": 10,
      "metadata": {
        "id": "ozb1EC0Ak06H",
        "outputId": "7626a2a2-fd0c-4a13-8651-0fbeeaed6dd4"
      },
      "outputs": [
        {
          "data": {
            "application/vnd.microsoft.datawrangler.viewer.v0+json": {
              "columns": [
                {
                  "name": "index",
                  "rawType": "int64",
                  "type": "integer"
                },
                {
                  "name": "Age",
                  "rawType": "float64",
                  "type": "float"
                },
                {
                  "name": "Sex",
                  "rawType": "object",
                  "type": "string"
                },
                {
                  "name": "Residence County",
                  "rawType": "object",
                  "type": "string"
                },
                {
                  "name": "Injury City",
                  "rawType": "object",
                  "type": "string"
                },
                {
                  "name": "Injury County",
                  "rawType": "object",
                  "type": "string"
                },
                {
                  "name": "Death City",
                  "rawType": "object",
                  "type": "string"
                },
                {
                  "name": "Death County",
                  "rawType": "object",
                  "type": "string"
                },
                {
                  "name": "Location",
                  "rawType": "object",
                  "type": "string"
                },
                {
                  "name": "Heroin",
                  "rawType": "object",
                  "type": "string"
                },
                {
                  "name": "Cocaine",
                  "rawType": "object",
                  "type": "string"
                },
                {
                  "name": "Fentanyl",
                  "rawType": "object",
                  "type": "string"
                },
                {
                  "name": "Oxycodone",
                  "rawType": "object",
                  "type": "string"
                },
                {
                  "name": "Oxymorphone",
                  "rawType": "object",
                  "type": "string"
                },
                {
                  "name": "Ethanol",
                  "rawType": "object",
                  "type": "string"
                },
                {
                  "name": "Hydrocodone",
                  "rawType": "object",
                  "type": "string"
                },
                {
                  "name": "Benzodiazepine",
                  "rawType": "object",
                  "type": "string"
                },
                {
                  "name": "Methadone",
                  "rawType": "object",
                  "type": "string"
                },
                {
                  "name": "Meth/Amphetamine",
                  "rawType": "object",
                  "type": "string"
                },
                {
                  "name": "Amphet",
                  "rawType": "object",
                  "type": "string"
                },
                {
                  "name": "Tramad",
                  "rawType": "object",
                  "type": "string"
                },
                {
                  "name": "Hydromorphone",
                  "rawType": "object",
                  "type": "string"
                },
                {
                  "name": "Morphine (Not Heroin)",
                  "rawType": "object",
                  "type": "string"
                },
                {
                  "name": "Xylazine",
                  "rawType": "object",
                  "type": "string"
                },
                {
                  "name": "Gabapentin",
                  "rawType": "object",
                  "type": "string"
                },
                {
                  "name": "Opiate NOS",
                  "rawType": "object",
                  "type": "string"
                },
                {
                  "name": "Heroin/Morph/Codeine",
                  "rawType": "object",
                  "type": "string"
                },
                {
                  "name": "Day",
                  "rawType": "float64",
                  "type": "float"
                },
                {
                  "name": "Resid_City_Coord_Lat",
                  "rawType": "float64",
                  "type": "float"
                },
                {
                  "name": "Resid_City_Coord_Lon",
                  "rawType": "float64",
                  "type": "float"
                },
                {
                  "name": "Injury_City_Coord_Lat",
                  "rawType": "float64",
                  "type": "float"
                },
                {
                  "name": "Injury_City_Coord_Lon",
                  "rawType": "float64",
                  "type": "float"
                },
                {
                  "name": "Death_City_Coord_Lat",
                  "rawType": "float64",
                  "type": "float"
                },
                {
                  "name": "Death_City_Coord_Lon",
                  "rawType": "float64",
                  "type": "float"
                },
                {
                  "name": "Sex_numeric",
                  "rawType": "int32",
                  "type": "integer"
                },
                {
                  "name": "Residence County_numeric",
                  "rawType": "int32",
                  "type": "integer"
                },
                {
                  "name": "Injury City_numeric",
                  "rawType": "int32",
                  "type": "integer"
                },
                {
                  "name": "Injury County_numeric",
                  "rawType": "int32",
                  "type": "integer"
                },
                {
                  "name": "Death City_numeric",
                  "rawType": "int32",
                  "type": "integer"
                },
                {
                  "name": "Death County_numeric",
                  "rawType": "int32",
                  "type": "integer"
                },
                {
                  "name": "Location_numeric",
                  "rawType": "int32",
                  "type": "integer"
                },
                {
                  "name": "Heroin_numeric",
                  "rawType": "int32",
                  "type": "integer"
                },
                {
                  "name": "Cocaine_numeric",
                  "rawType": "int32",
                  "type": "integer"
                },
                {
                  "name": "Fentanyl_numeric",
                  "rawType": "int32",
                  "type": "integer"
                },
                {
                  "name": "Oxycodone_numeric",
                  "rawType": "int32",
                  "type": "integer"
                },
                {
                  "name": "Oxymorphone_numeric",
                  "rawType": "int32",
                  "type": "integer"
                },
                {
                  "name": "Ethanol_numeric",
                  "rawType": "int32",
                  "type": "integer"
                },
                {
                  "name": "Hydrocodone_numeric",
                  "rawType": "int32",
                  "type": "integer"
                },
                {
                  "name": "Benzodiazepine_numeric",
                  "rawType": "int32",
                  "type": "integer"
                },
                {
                  "name": "Methadone_numeric",
                  "rawType": "int32",
                  "type": "integer"
                },
                {
                  "name": "Meth/Amphetamine_numeric",
                  "rawType": "int32",
                  "type": "integer"
                },
                {
                  "name": "Amphet_numeric",
                  "rawType": "int32",
                  "type": "integer"
                },
                {
                  "name": "Tramad_numeric",
                  "rawType": "int32",
                  "type": "integer"
                },
                {
                  "name": "Hydromorphone_numeric",
                  "rawType": "int32",
                  "type": "integer"
                },
                {
                  "name": "Morphine (Not Heroin)_numeric",
                  "rawType": "int32",
                  "type": "integer"
                },
                {
                  "name": "Xylazine_numeric",
                  "rawType": "int32",
                  "type": "integer"
                },
                {
                  "name": "Gabapentin_numeric",
                  "rawType": "int32",
                  "type": "integer"
                },
                {
                  "name": "Opiate NOS_numeric",
                  "rawType": "int32",
                  "type": "integer"
                },
                {
                  "name": "Heroin/Morph/Codeine_numeric",
                  "rawType": "int32",
                  "type": "integer"
                }
              ],
              "conversionMethod": "pd.DataFrame",
              "ref": "7dbfa92b-17e3-4a2e-bb6f-dd7483fb6208",
              "rows": [
                [
                  "0",
                  "37.0",
                  "Male",
                  "FAIRFIELD",
                  "STAMFORD",
                  "UNKNOWN",
                  "UNKNOWN",
                  "UNKNOWN",
                  "House, Apartment, Residence or Decedent’s Home",
                  "N",
                  "Y",
                  "N",
                  "N",
                  "N",
                  "N",
                  "N",
                  "N",
                  "N",
                  "N",
                  "N",
                  "N",
                  "N",
                  "N",
                  "N",
                  "N",
                  "N",
                  "N",
                  "29.0",
                  "41.051924",
                  "-73.539475",
                  "41.051924",
                  "-73.539475",
                  "41.575155",
                  "-72.738288",
                  "1",
                  "29",
                  "206",
                  "11",
                  "196",
                  "7",
                  "10",
                  "0",
                  "1",
                  "0",
                  "0",
                  "0",
                  "0",
                  "0",
                  "0",
                  "0",
                  "0",
                  "0",
                  "0",
                  "0",
                  "0",
                  "0",
                  "0",
                  "0",
                  "0"
                ],
                [
                  "1",
                  "37.0",
                  "Male",
                  "NEW LONDON",
                  "NORWICH",
                  "UNKNOWN",
                  "NORWICH",
                  "NEW LONDON",
                  "Hospital, Health Care Facility",
                  "Y",
                  "N",
                  "N",
                  "N",
                  "N",
                  "N",
                  "N",
                  "N",
                  "N",
                  "N",
                  "N",
                  "N",
                  "N",
                  "N",
                  "N",
                  "N",
                  "N",
                  "N",
                  "27.0",
                  "41.524304",
                  "-72.075821",
                  "41.524304",
                  "-72.075821",
                  "41.524304",
                  "-72.075821",
                  "1",
                  "61",
                  "148",
                  "11",
                  "133",
                  "5",
                  "7",
                  "1",
                  "0",
                  "0",
                  "0",
                  "0",
                  "0",
                  "0",
                  "0",
                  "0",
                  "0",
                  "0",
                  "0",
                  "0",
                  "0",
                  "0",
                  "0",
                  "0",
                  "0"
                ],
                [
                  "2",
                  "28.0",
                  "Male",
                  "UNKNOWN",
                  "HEBRON",
                  "UNKNOWN",
                  "MARLBOROUGH",
                  "UNKNOWN",
                  "Hospital, Health Care Facility",
                  "Y",
                  "N",
                  "N",
                  "N",
                  "N",
                  "N",
                  "N",
                  "N",
                  "N",
                  "N",
                  "N",
                  "N",
                  "N",
                  "N",
                  "N",
                  "N",
                  "N",
                  "N",
                  "24.0",
                  "41.658069",
                  "-72.366324",
                  "41.658069",
                  "-72.366324",
                  "41.632043",
                  "-72.461309",
                  "1",
                  "95",
                  "94",
                  "11",
                  "97",
                  "7",
                  "7",
                  "1",
                  "0",
                  "0",
                  "0",
                  "0",
                  "0",
                  "0",
                  "0",
                  "0",
                  "0",
                  "0",
                  "0",
                  "0",
                  "0",
                  "0",
                  "0",
                  "0",
                  "0"
                ]
              ],
              "shape": {
                "columns": 58,
                "rows": 3
              }
            },
            "text/html": [
              "<div>\n",
              "<style scoped>\n",
              "    .dataframe tbody tr th:only-of-type {\n",
              "        vertical-align: middle;\n",
              "    }\n",
              "\n",
              "    .dataframe tbody tr th {\n",
              "        vertical-align: top;\n",
              "    }\n",
              "\n",
              "    .dataframe thead th {\n",
              "        text-align: right;\n",
              "    }\n",
              "</style>\n",
              "<table border=\"1\" class=\"dataframe\">\n",
              "  <thead>\n",
              "    <tr style=\"text-align: right;\">\n",
              "      <th></th>\n",
              "      <th>Age</th>\n",
              "      <th>Sex</th>\n",
              "      <th>Residence County</th>\n",
              "      <th>Injury City</th>\n",
              "      <th>Injury County</th>\n",
              "      <th>Death City</th>\n",
              "      <th>Death County</th>\n",
              "      <th>Location</th>\n",
              "      <th>Heroin</th>\n",
              "      <th>Cocaine</th>\n",
              "      <th>Fentanyl</th>\n",
              "      <th>Oxycodone</th>\n",
              "      <th>Oxymorphone</th>\n",
              "      <th>Ethanol</th>\n",
              "      <th>Hydrocodone</th>\n",
              "      <th>Benzodiazepine</th>\n",
              "      <th>Methadone</th>\n",
              "      <th>Meth/Amphetamine</th>\n",
              "      <th>Amphet</th>\n",
              "      <th>Tramad</th>\n",
              "      <th>Hydromorphone</th>\n",
              "      <th>Morphine (Not Heroin)</th>\n",
              "      <th>Xylazine</th>\n",
              "      <th>Gabapentin</th>\n",
              "      <th>Opiate NOS</th>\n",
              "      <th>Heroin/Morph/Codeine</th>\n",
              "      <th>Day</th>\n",
              "      <th>Resid_City_Coord_Lat</th>\n",
              "      <th>Resid_City_Coord_Lon</th>\n",
              "      <th>Injury_City_Coord_Lat</th>\n",
              "      <th>Injury_City_Coord_Lon</th>\n",
              "      <th>Death_City_Coord_Lat</th>\n",
              "      <th>Death_City_Coord_Lon</th>\n",
              "      <th>Sex_numeric</th>\n",
              "      <th>Residence County_numeric</th>\n",
              "      <th>Injury City_numeric</th>\n",
              "      <th>Injury County_numeric</th>\n",
              "      <th>Death City_numeric</th>\n",
              "      <th>Death County_numeric</th>\n",
              "      <th>Location_numeric</th>\n",
              "      <th>Heroin_numeric</th>\n",
              "      <th>Cocaine_numeric</th>\n",
              "      <th>Fentanyl_numeric</th>\n",
              "      <th>Oxycodone_numeric</th>\n",
              "      <th>Oxymorphone_numeric</th>\n",
              "      <th>Ethanol_numeric</th>\n",
              "      <th>Hydrocodone_numeric</th>\n",
              "      <th>Benzodiazepine_numeric</th>\n",
              "      <th>Methadone_numeric</th>\n",
              "      <th>Meth/Amphetamine_numeric</th>\n",
              "      <th>Amphet_numeric</th>\n",
              "      <th>Tramad_numeric</th>\n",
              "      <th>Hydromorphone_numeric</th>\n",
              "      <th>Morphine (Not Heroin)_numeric</th>\n",
              "      <th>Xylazine_numeric</th>\n",
              "      <th>Gabapentin_numeric</th>\n",
              "      <th>Opiate NOS_numeric</th>\n",
              "      <th>Heroin/Morph/Codeine_numeric</th>\n",
              "    </tr>\n",
              "  </thead>\n",
              "  <tbody>\n",
              "    <tr>\n",
              "      <th>0</th>\n",
              "      <td>37.0</td>\n",
              "      <td>Male</td>\n",
              "      <td>FAIRFIELD</td>\n",
              "      <td>STAMFORD</td>\n",
              "      <td>UNKNOWN</td>\n",
              "      <td>UNKNOWN</td>\n",
              "      <td>UNKNOWN</td>\n",
              "      <td>House, Apartment, Residence or Decedent’s Home</td>\n",
              "      <td>N</td>\n",
              "      <td>Y</td>\n",
              "      <td>N</td>\n",
              "      <td>N</td>\n",
              "      <td>N</td>\n",
              "      <td>N</td>\n",
              "      <td>N</td>\n",
              "      <td>N</td>\n",
              "      <td>N</td>\n",
              "      <td>N</td>\n",
              "      <td>N</td>\n",
              "      <td>N</td>\n",
              "      <td>N</td>\n",
              "      <td>N</td>\n",
              "      <td>N</td>\n",
              "      <td>N</td>\n",
              "      <td>N</td>\n",
              "      <td>N</td>\n",
              "      <td>29.0</td>\n",
              "      <td>41.051924</td>\n",
              "      <td>-73.539475</td>\n",
              "      <td>41.051924</td>\n",
              "      <td>-73.539475</td>\n",
              "      <td>41.575155</td>\n",
              "      <td>-72.738288</td>\n",
              "      <td>1</td>\n",
              "      <td>29</td>\n",
              "      <td>206</td>\n",
              "      <td>11</td>\n",
              "      <td>196</td>\n",
              "      <td>7</td>\n",
              "      <td>10</td>\n",
              "      <td>0</td>\n",
              "      <td>1</td>\n",
              "      <td>0</td>\n",
              "      <td>0</td>\n",
              "      <td>0</td>\n",
              "      <td>0</td>\n",
              "      <td>0</td>\n",
              "      <td>0</td>\n",
              "      <td>0</td>\n",
              "      <td>0</td>\n",
              "      <td>0</td>\n",
              "      <td>0</td>\n",
              "      <td>0</td>\n",
              "      <td>0</td>\n",
              "      <td>0</td>\n",
              "      <td>0</td>\n",
              "      <td>0</td>\n",
              "      <td>0</td>\n",
              "    </tr>\n",
              "    <tr>\n",
              "      <th>1</th>\n",
              "      <td>37.0</td>\n",
              "      <td>Male</td>\n",
              "      <td>NEW LONDON</td>\n",
              "      <td>NORWICH</td>\n",
              "      <td>UNKNOWN</td>\n",
              "      <td>NORWICH</td>\n",
              "      <td>NEW LONDON</td>\n",
              "      <td>Hospital, Health Care Facility</td>\n",
              "      <td>Y</td>\n",
              "      <td>N</td>\n",
              "      <td>N</td>\n",
              "      <td>N</td>\n",
              "      <td>N</td>\n",
              "      <td>N</td>\n",
              "      <td>N</td>\n",
              "      <td>N</td>\n",
              "      <td>N</td>\n",
              "      <td>N</td>\n",
              "      <td>N</td>\n",
              "      <td>N</td>\n",
              "      <td>N</td>\n",
              "      <td>N</td>\n",
              "      <td>N</td>\n",
              "      <td>N</td>\n",
              "      <td>N</td>\n",
              "      <td>N</td>\n",
              "      <td>27.0</td>\n",
              "      <td>41.524304</td>\n",
              "      <td>-72.075821</td>\n",
              "      <td>41.524304</td>\n",
              "      <td>-72.075821</td>\n",
              "      <td>41.524304</td>\n",
              "      <td>-72.075821</td>\n",
              "      <td>1</td>\n",
              "      <td>61</td>\n",
              "      <td>148</td>\n",
              "      <td>11</td>\n",
              "      <td>133</td>\n",
              "      <td>5</td>\n",
              "      <td>7</td>\n",
              "      <td>1</td>\n",
              "      <td>0</td>\n",
              "      <td>0</td>\n",
              "      <td>0</td>\n",
              "      <td>0</td>\n",
              "      <td>0</td>\n",
              "      <td>0</td>\n",
              "      <td>0</td>\n",
              "      <td>0</td>\n",
              "      <td>0</td>\n",
              "      <td>0</td>\n",
              "      <td>0</td>\n",
              "      <td>0</td>\n",
              "      <td>0</td>\n",
              "      <td>0</td>\n",
              "      <td>0</td>\n",
              "      <td>0</td>\n",
              "      <td>0</td>\n",
              "    </tr>\n",
              "    <tr>\n",
              "      <th>2</th>\n",
              "      <td>28.0</td>\n",
              "      <td>Male</td>\n",
              "      <td>UNKNOWN</td>\n",
              "      <td>HEBRON</td>\n",
              "      <td>UNKNOWN</td>\n",
              "      <td>MARLBOROUGH</td>\n",
              "      <td>UNKNOWN</td>\n",
              "      <td>Hospital, Health Care Facility</td>\n",
              "      <td>Y</td>\n",
              "      <td>N</td>\n",
              "      <td>N</td>\n",
              "      <td>N</td>\n",
              "      <td>N</td>\n",
              "      <td>N</td>\n",
              "      <td>N</td>\n",
              "      <td>N</td>\n",
              "      <td>N</td>\n",
              "      <td>N</td>\n",
              "      <td>N</td>\n",
              "      <td>N</td>\n",
              "      <td>N</td>\n",
              "      <td>N</td>\n",
              "      <td>N</td>\n",
              "      <td>N</td>\n",
              "      <td>N</td>\n",
              "      <td>N</td>\n",
              "      <td>24.0</td>\n",
              "      <td>41.658069</td>\n",
              "      <td>-72.366324</td>\n",
              "      <td>41.658069</td>\n",
              "      <td>-72.366324</td>\n",
              "      <td>41.632043</td>\n",
              "      <td>-72.461309</td>\n",
              "      <td>1</td>\n",
              "      <td>95</td>\n",
              "      <td>94</td>\n",
              "      <td>11</td>\n",
              "      <td>97</td>\n",
              "      <td>7</td>\n",
              "      <td>7</td>\n",
              "      <td>1</td>\n",
              "      <td>0</td>\n",
              "      <td>0</td>\n",
              "      <td>0</td>\n",
              "      <td>0</td>\n",
              "      <td>0</td>\n",
              "      <td>0</td>\n",
              "      <td>0</td>\n",
              "      <td>0</td>\n",
              "      <td>0</td>\n",
              "      <td>0</td>\n",
              "      <td>0</td>\n",
              "      <td>0</td>\n",
              "      <td>0</td>\n",
              "      <td>0</td>\n",
              "      <td>0</td>\n",
              "      <td>0</td>\n",
              "      <td>0</td>\n",
              "    </tr>\n",
              "  </tbody>\n",
              "</table>\n",
              "</div>"
            ],
            "text/plain": [
              "    Age   Sex Residence County Injury City Injury County   Death City  \\\n",
              "0  37.0  Male        FAIRFIELD    STAMFORD       UNKNOWN      UNKNOWN   \n",
              "1  37.0  Male       NEW LONDON     NORWICH       UNKNOWN      NORWICH   \n",
              "2  28.0  Male          UNKNOWN      HEBRON       UNKNOWN  MARLBOROUGH   \n",
              "\n",
              "  Death County                                        Location Heroin Cocaine  \\\n",
              "0      UNKNOWN  House, Apartment, Residence or Decedent’s Home      N       Y   \n",
              "1   NEW LONDON                  Hospital, Health Care Facility      Y       N   \n",
              "2      UNKNOWN                  Hospital, Health Care Facility      Y       N   \n",
              "\n",
              "  Fentanyl Oxycodone Oxymorphone Ethanol Hydrocodone Benzodiazepine Methadone  \\\n",
              "0        N         N           N       N           N              N         N   \n",
              "1        N         N           N       N           N              N         N   \n",
              "2        N         N           N       N           N              N         N   \n",
              "\n",
              "  Meth/Amphetamine Amphet Tramad Hydromorphone Morphine (Not Heroin) Xylazine  \\\n",
              "0                N      N      N             N                     N        N   \n",
              "1                N      N      N             N                     N        N   \n",
              "2                N      N      N             N                     N        N   \n",
              "\n",
              "  Gabapentin Opiate NOS Heroin/Morph/Codeine   Day  Resid_City_Coord_Lat  \\\n",
              "0          N          N                    N  29.0             41.051924   \n",
              "1          N          N                    N  27.0             41.524304   \n",
              "2          N          N                    N  24.0             41.658069   \n",
              "\n",
              "   Resid_City_Coord_Lon  Injury_City_Coord_Lat  Injury_City_Coord_Lon  \\\n",
              "0            -73.539475              41.051924             -73.539475   \n",
              "1            -72.075821              41.524304             -72.075821   \n",
              "2            -72.366324              41.658069             -72.366324   \n",
              "\n",
              "   Death_City_Coord_Lat  Death_City_Coord_Lon  Sex_numeric  \\\n",
              "0             41.575155            -72.738288            1   \n",
              "1             41.524304            -72.075821            1   \n",
              "2             41.632043            -72.461309            1   \n",
              "\n",
              "   Residence County_numeric  Injury City_numeric  Injury County_numeric  \\\n",
              "0                        29                  206                     11   \n",
              "1                        61                  148                     11   \n",
              "2                        95                   94                     11   \n",
              "\n",
              "   Death City_numeric  Death County_numeric  Location_numeric  Heroin_numeric  \\\n",
              "0                 196                     7                10               0   \n",
              "1                 133                     5                 7               1   \n",
              "2                  97                     7                 7               1   \n",
              "\n",
              "   Cocaine_numeric  Fentanyl_numeric  Oxycodone_numeric  Oxymorphone_numeric  \\\n",
              "0                1                 0                  0                    0   \n",
              "1                0                 0                  0                    0   \n",
              "2                0                 0                  0                    0   \n",
              "\n",
              "   Ethanol_numeric  Hydrocodone_numeric  Benzodiazepine_numeric  \\\n",
              "0                0                    0                       0   \n",
              "1                0                    0                       0   \n",
              "2                0                    0                       0   \n",
              "\n",
              "   Methadone_numeric  Meth/Amphetamine_numeric  Amphet_numeric  \\\n",
              "0                  0                         0               0   \n",
              "1                  0                         0               0   \n",
              "2                  0                         0               0   \n",
              "\n",
              "   Tramad_numeric  Hydromorphone_numeric  Morphine (Not Heroin)_numeric  \\\n",
              "0               0                      0                              0   \n",
              "1               0                      0                              0   \n",
              "2               0                      0                              0   \n",
              "\n",
              "   Xylazine_numeric  Gabapentin_numeric  Opiate NOS_numeric  \\\n",
              "0                 0                   0                   0   \n",
              "1                 0                   0                   0   \n",
              "2                 0                   0                   0   \n",
              "\n",
              "   Heroin/Morph/Codeine_numeric  \n",
              "0                             0  \n",
              "1                             0  \n",
              "2                             0  "
            ]
          },
          "execution_count": 10,
          "metadata": {},
          "output_type": "execute_result"
        }
      ],
      "source": [
        "to_transform_numeric= ['Sex', 'Residence County','Injury City', 'Injury County','Death City', 'Death County', 'Location', \n",
        "                       'Heroin', 'Cocaine','Fentanyl', 'Oxycodone', 'Oxymorphone', 'Ethanol',\n",
        "                       'Hydrocodone','Benzodiazepine', 'Methadone', 'Meth/Amphetamine', 'Amphet', 'Tramad','Hydromorphone',\n",
        "                       'Morphine (Not Heroin)', 'Xylazine', 'Gabapentin','Opiate NOS', 'Heroin/Morph/Codeine']\n",
        "\n",
        "for element in to_transform_numeric:\n",
        "    add_nwe_column(df, element)\n",
        "\n",
        "df.head(3)"
      ]
    },
    {
      "cell_type": "code",
      "execution_count": 11,
      "metadata": {},
      "outputs": [],
      "source": [
        "df_ml=df.drop(columns=to_transform_numeric)"
      ]
    },
    {
      "cell_type": "code",
      "execution_count": 12,
      "metadata": {
        "id": "ky0dG6-Ak06I",
        "outputId": "b97d657a-258a-461f-b1e8-22ea14bb9689"
      },
      "outputs": [
        {
          "data": {
            "application/vnd.microsoft.datawrangler.viewer.v0+json": {
              "columns": [
                {
                  "name": "index",
                  "rawType": "int64",
                  "type": "integer"
                },
                {
                  "name": "Age",
                  "rawType": "float64",
                  "type": "float"
                },
                {
                  "name": "Day",
                  "rawType": "float64",
                  "type": "float"
                },
                {
                  "name": "Resid_City_Coord_Lat",
                  "rawType": "float64",
                  "type": "float"
                },
                {
                  "name": "Resid_City_Coord_Lon",
                  "rawType": "float64",
                  "type": "float"
                },
                {
                  "name": "Injury_City_Coord_Lat",
                  "rawType": "float64",
                  "type": "float"
                },
                {
                  "name": "Injury_City_Coord_Lon",
                  "rawType": "float64",
                  "type": "float"
                },
                {
                  "name": "Death_City_Coord_Lat",
                  "rawType": "float64",
                  "type": "float"
                },
                {
                  "name": "Death_City_Coord_Lon",
                  "rawType": "float64",
                  "type": "float"
                },
                {
                  "name": "Sex_numeric",
                  "rawType": "int32",
                  "type": "integer"
                },
                {
                  "name": "Residence County_numeric",
                  "rawType": "int32",
                  "type": "integer"
                },
                {
                  "name": "Injury City_numeric",
                  "rawType": "int32",
                  "type": "integer"
                },
                {
                  "name": "Injury County_numeric",
                  "rawType": "int32",
                  "type": "integer"
                },
                {
                  "name": "Death City_numeric",
                  "rawType": "int32",
                  "type": "integer"
                },
                {
                  "name": "Death County_numeric",
                  "rawType": "int32",
                  "type": "integer"
                },
                {
                  "name": "Location_numeric",
                  "rawType": "int32",
                  "type": "integer"
                },
                {
                  "name": "Heroin_numeric",
                  "rawType": "int32",
                  "type": "integer"
                },
                {
                  "name": "Cocaine_numeric",
                  "rawType": "int32",
                  "type": "integer"
                },
                {
                  "name": "Fentanyl_numeric",
                  "rawType": "int32",
                  "type": "integer"
                },
                {
                  "name": "Oxycodone_numeric",
                  "rawType": "int32",
                  "type": "integer"
                },
                {
                  "name": "Oxymorphone_numeric",
                  "rawType": "int32",
                  "type": "integer"
                },
                {
                  "name": "Ethanol_numeric",
                  "rawType": "int32",
                  "type": "integer"
                },
                {
                  "name": "Hydrocodone_numeric",
                  "rawType": "int32",
                  "type": "integer"
                },
                {
                  "name": "Benzodiazepine_numeric",
                  "rawType": "int32",
                  "type": "integer"
                },
                {
                  "name": "Methadone_numeric",
                  "rawType": "int32",
                  "type": "integer"
                },
                {
                  "name": "Meth/Amphetamine_numeric",
                  "rawType": "int32",
                  "type": "integer"
                },
                {
                  "name": "Amphet_numeric",
                  "rawType": "int32",
                  "type": "integer"
                },
                {
                  "name": "Tramad_numeric",
                  "rawType": "int32",
                  "type": "integer"
                },
                {
                  "name": "Hydromorphone_numeric",
                  "rawType": "int32",
                  "type": "integer"
                },
                {
                  "name": "Morphine (Not Heroin)_numeric",
                  "rawType": "int32",
                  "type": "integer"
                },
                {
                  "name": "Xylazine_numeric",
                  "rawType": "int32",
                  "type": "integer"
                },
                {
                  "name": "Gabapentin_numeric",
                  "rawType": "int32",
                  "type": "integer"
                },
                {
                  "name": "Opiate NOS_numeric",
                  "rawType": "int32",
                  "type": "integer"
                },
                {
                  "name": "Heroin/Morph/Codeine_numeric",
                  "rawType": "int32",
                  "type": "integer"
                }
              ],
              "conversionMethod": "pd.DataFrame",
              "ref": "9aa3e6bc-c20e-4828-a20b-a960f414fbc6",
              "rows": [
                [
                  "0",
                  "37.0",
                  "29.0",
                  "41.051924",
                  "-73.539475",
                  "41.051924",
                  "-73.539475",
                  "41.575155",
                  "-72.738288",
                  "1",
                  "29",
                  "206",
                  "11",
                  "196",
                  "7",
                  "10",
                  "0",
                  "1",
                  "0",
                  "0",
                  "0",
                  "0",
                  "0",
                  "0",
                  "0",
                  "0",
                  "0",
                  "0",
                  "0",
                  "0",
                  "0",
                  "0",
                  "0",
                  "0"
                ],
                [
                  "1",
                  "37.0",
                  "27.0",
                  "41.524304",
                  "-72.075821",
                  "41.524304",
                  "-72.075821",
                  "41.524304",
                  "-72.075821",
                  "1",
                  "61",
                  "148",
                  "11",
                  "133",
                  "5",
                  "7",
                  "1",
                  "0",
                  "0",
                  "0",
                  "0",
                  "0",
                  "0",
                  "0",
                  "0",
                  "0",
                  "0",
                  "0",
                  "0",
                  "0",
                  "0",
                  "0",
                  "0",
                  "0"
                ],
                [
                  "2",
                  "28.0",
                  "24.0",
                  "41.658069",
                  "-72.366324",
                  "41.658069",
                  "-72.366324",
                  "41.632043",
                  "-72.461309",
                  "1",
                  "95",
                  "94",
                  "11",
                  "97",
                  "7",
                  "7",
                  "1",
                  "0",
                  "0",
                  "0",
                  "0",
                  "0",
                  "0",
                  "0",
                  "0",
                  "0",
                  "0",
                  "0",
                  "0",
                  "0",
                  "0",
                  "0",
                  "0",
                  "0"
                ]
              ],
              "shape": {
                "columns": 33,
                "rows": 3
              }
            },
            "text/html": [
              "<div>\n",
              "<style scoped>\n",
              "    .dataframe tbody tr th:only-of-type {\n",
              "        vertical-align: middle;\n",
              "    }\n",
              "\n",
              "    .dataframe tbody tr th {\n",
              "        vertical-align: top;\n",
              "    }\n",
              "\n",
              "    .dataframe thead th {\n",
              "        text-align: right;\n",
              "    }\n",
              "</style>\n",
              "<table border=\"1\" class=\"dataframe\">\n",
              "  <thead>\n",
              "    <tr style=\"text-align: right;\">\n",
              "      <th></th>\n",
              "      <th>Age</th>\n",
              "      <th>Day</th>\n",
              "      <th>Resid_City_Coord_Lat</th>\n",
              "      <th>Resid_City_Coord_Lon</th>\n",
              "      <th>Injury_City_Coord_Lat</th>\n",
              "      <th>Injury_City_Coord_Lon</th>\n",
              "      <th>Death_City_Coord_Lat</th>\n",
              "      <th>Death_City_Coord_Lon</th>\n",
              "      <th>Sex_numeric</th>\n",
              "      <th>Residence County_numeric</th>\n",
              "      <th>Injury City_numeric</th>\n",
              "      <th>Injury County_numeric</th>\n",
              "      <th>Death City_numeric</th>\n",
              "      <th>Death County_numeric</th>\n",
              "      <th>Location_numeric</th>\n",
              "      <th>Heroin_numeric</th>\n",
              "      <th>Cocaine_numeric</th>\n",
              "      <th>Fentanyl_numeric</th>\n",
              "      <th>Oxycodone_numeric</th>\n",
              "      <th>Oxymorphone_numeric</th>\n",
              "      <th>Ethanol_numeric</th>\n",
              "      <th>Hydrocodone_numeric</th>\n",
              "      <th>Benzodiazepine_numeric</th>\n",
              "      <th>Methadone_numeric</th>\n",
              "      <th>Meth/Amphetamine_numeric</th>\n",
              "      <th>Amphet_numeric</th>\n",
              "      <th>Tramad_numeric</th>\n",
              "      <th>Hydromorphone_numeric</th>\n",
              "      <th>Morphine (Not Heroin)_numeric</th>\n",
              "      <th>Xylazine_numeric</th>\n",
              "      <th>Gabapentin_numeric</th>\n",
              "      <th>Opiate NOS_numeric</th>\n",
              "      <th>Heroin/Morph/Codeine_numeric</th>\n",
              "    </tr>\n",
              "  </thead>\n",
              "  <tbody>\n",
              "    <tr>\n",
              "      <th>0</th>\n",
              "      <td>37.0</td>\n",
              "      <td>29.0</td>\n",
              "      <td>41.051924</td>\n",
              "      <td>-73.539475</td>\n",
              "      <td>41.051924</td>\n",
              "      <td>-73.539475</td>\n",
              "      <td>41.575155</td>\n",
              "      <td>-72.738288</td>\n",
              "      <td>1</td>\n",
              "      <td>29</td>\n",
              "      <td>206</td>\n",
              "      <td>11</td>\n",
              "      <td>196</td>\n",
              "      <td>7</td>\n",
              "      <td>10</td>\n",
              "      <td>0</td>\n",
              "      <td>1</td>\n",
              "      <td>0</td>\n",
              "      <td>0</td>\n",
              "      <td>0</td>\n",
              "      <td>0</td>\n",
              "      <td>0</td>\n",
              "      <td>0</td>\n",
              "      <td>0</td>\n",
              "      <td>0</td>\n",
              "      <td>0</td>\n",
              "      <td>0</td>\n",
              "      <td>0</td>\n",
              "      <td>0</td>\n",
              "      <td>0</td>\n",
              "      <td>0</td>\n",
              "      <td>0</td>\n",
              "      <td>0</td>\n",
              "    </tr>\n",
              "    <tr>\n",
              "      <th>1</th>\n",
              "      <td>37.0</td>\n",
              "      <td>27.0</td>\n",
              "      <td>41.524304</td>\n",
              "      <td>-72.075821</td>\n",
              "      <td>41.524304</td>\n",
              "      <td>-72.075821</td>\n",
              "      <td>41.524304</td>\n",
              "      <td>-72.075821</td>\n",
              "      <td>1</td>\n",
              "      <td>61</td>\n",
              "      <td>148</td>\n",
              "      <td>11</td>\n",
              "      <td>133</td>\n",
              "      <td>5</td>\n",
              "      <td>7</td>\n",
              "      <td>1</td>\n",
              "      <td>0</td>\n",
              "      <td>0</td>\n",
              "      <td>0</td>\n",
              "      <td>0</td>\n",
              "      <td>0</td>\n",
              "      <td>0</td>\n",
              "      <td>0</td>\n",
              "      <td>0</td>\n",
              "      <td>0</td>\n",
              "      <td>0</td>\n",
              "      <td>0</td>\n",
              "      <td>0</td>\n",
              "      <td>0</td>\n",
              "      <td>0</td>\n",
              "      <td>0</td>\n",
              "      <td>0</td>\n",
              "      <td>0</td>\n",
              "    </tr>\n",
              "    <tr>\n",
              "      <th>2</th>\n",
              "      <td>28.0</td>\n",
              "      <td>24.0</td>\n",
              "      <td>41.658069</td>\n",
              "      <td>-72.366324</td>\n",
              "      <td>41.658069</td>\n",
              "      <td>-72.366324</td>\n",
              "      <td>41.632043</td>\n",
              "      <td>-72.461309</td>\n",
              "      <td>1</td>\n",
              "      <td>95</td>\n",
              "      <td>94</td>\n",
              "      <td>11</td>\n",
              "      <td>97</td>\n",
              "      <td>7</td>\n",
              "      <td>7</td>\n",
              "      <td>1</td>\n",
              "      <td>0</td>\n",
              "      <td>0</td>\n",
              "      <td>0</td>\n",
              "      <td>0</td>\n",
              "      <td>0</td>\n",
              "      <td>0</td>\n",
              "      <td>0</td>\n",
              "      <td>0</td>\n",
              "      <td>0</td>\n",
              "      <td>0</td>\n",
              "      <td>0</td>\n",
              "      <td>0</td>\n",
              "      <td>0</td>\n",
              "      <td>0</td>\n",
              "      <td>0</td>\n",
              "      <td>0</td>\n",
              "      <td>0</td>\n",
              "    </tr>\n",
              "  </tbody>\n",
              "</table>\n",
              "</div>"
            ],
            "text/plain": [
              "    Age   Day  Resid_City_Coord_Lat  Resid_City_Coord_Lon  \\\n",
              "0  37.0  29.0             41.051924            -73.539475   \n",
              "1  37.0  27.0             41.524304            -72.075821   \n",
              "2  28.0  24.0             41.658069            -72.366324   \n",
              "\n",
              "   Injury_City_Coord_Lat  Injury_City_Coord_Lon  Death_City_Coord_Lat  \\\n",
              "0              41.051924             -73.539475             41.575155   \n",
              "1              41.524304             -72.075821             41.524304   \n",
              "2              41.658069             -72.366324             41.632043   \n",
              "\n",
              "   Death_City_Coord_Lon  Sex_numeric  Residence County_numeric  \\\n",
              "0            -72.738288            1                        29   \n",
              "1            -72.075821            1                        61   \n",
              "2            -72.461309            1                        95   \n",
              "\n",
              "   Injury City_numeric  Injury County_numeric  Death City_numeric  \\\n",
              "0                  206                     11                 196   \n",
              "1                  148                     11                 133   \n",
              "2                   94                     11                  97   \n",
              "\n",
              "   Death County_numeric  Location_numeric  Heroin_numeric  Cocaine_numeric  \\\n",
              "0                     7                10               0                1   \n",
              "1                     5                 7               1                0   \n",
              "2                     7                 7               1                0   \n",
              "\n",
              "   Fentanyl_numeric  Oxycodone_numeric  Oxymorphone_numeric  Ethanol_numeric  \\\n",
              "0                 0                  0                    0                0   \n",
              "1                 0                  0                    0                0   \n",
              "2                 0                  0                    0                0   \n",
              "\n",
              "   Hydrocodone_numeric  Benzodiazepine_numeric  Methadone_numeric  \\\n",
              "0                    0                       0                  0   \n",
              "1                    0                       0                  0   \n",
              "2                    0                       0                  0   \n",
              "\n",
              "   Meth/Amphetamine_numeric  Amphet_numeric  Tramad_numeric  \\\n",
              "0                         0               0               0   \n",
              "1                         0               0               0   \n",
              "2                         0               0               0   \n",
              "\n",
              "   Hydromorphone_numeric  Morphine (Not Heroin)_numeric  Xylazine_numeric  \\\n",
              "0                      0                              0                 0   \n",
              "1                      0                              0                 0   \n",
              "2                      0                              0                 0   \n",
              "\n",
              "   Gabapentin_numeric  Opiate NOS_numeric  Heroin/Morph/Codeine_numeric  \n",
              "0                   0                   0                             0  \n",
              "1                   0                   0                             0  \n",
              "2                   0                   0                             0  "
            ]
          },
          "execution_count": 12,
          "metadata": {},
          "output_type": "execute_result"
        }
      ],
      "source": [
        "df_ml.head(3)"
      ]
    },
    {
      "cell_type": "code",
      "execution_count": 13,
      "metadata": {
        "id": "Cc89cju2k06I",
        "outputId": "9f6582d2-83fb-4a04-ee8e-b42749c90432"
      },
      "outputs": [
        {
          "data": {
            "text/plain": [
              "(11567, 33)"
            ]
          },
          "execution_count": 13,
          "metadata": {},
          "output_type": "execute_result"
        }
      ],
      "source": [
        "df_ml.shape"
      ]
    },
    {
      "cell_type": "markdown",
      "metadata": {},
      "source": [
        "## GENERATING A CLUSTERING MACHINE LEARNING MODEL"
      ]
    },
    {
      "cell_type": "markdown",
      "metadata": {},
      "source": [
        "We'll create a function that reduces the dimensionality, trains multiple models, selects the best model using various evaluation parameters, and saves it:"
      ]
    },
    {
      "cell_type": "code",
      "execution_count": 24,
      "metadata": {},
      "outputs": [],
      "source": [
        "def plot_som_hits(som, X):\n",
        "    \n",
        "    x_dim, y_dim = som._weights.shape[:2]  \n",
        "    hits = np.zeros((x_dim, y_dim))\n",
        "\n",
        "    win_map = som.win_map(X)  \n",
        "    for (i, j), val in win_map.items():\n",
        "        hits[i, j] = len(val)  \n",
        "\n",
        "    plt.figure(figsize=(6, 6))\n",
        "    plt.imshow(hits, cmap=\"coolwarm\", origin=\"upper\")\n",
        "    plt.colorbar(label=\"Number of samples\")\n",
        "    plt.title(\"Hit Map (Frequency per Neuron)\")\n",
        "    plt.show()"
      ]
    },
    {
      "cell_type": "code",
      "execution_count": 45,
      "metadata": {},
      "outputs": [],
      "source": [
        "def scale_train_and_evaluate_models(df, models, param_distributions, n_iter):\n",
        "\n",
        "    df.select_dtypes(include=[np.number]).columns.tolist()\n",
        "\n",
        "    scaler = StandardScaler()\n",
        "    X_scaled = scaler.fit_transform(df)\n",
        "\n",
        "    pca = PCA(n_components=2)\n",
        "    pca_embedding = pca.fit_transform(X_scaled)\n",
        "\n",
        "    umap_reducer = umap.UMAP(n_components=2, metric='euclidean', random_state=42)\n",
        "    umap_embedding = umap_reducer.fit_transform(X_scaled)\n",
        "\n",
        "\n",
        "    num_neurons = int(5 * math.sqrt(len(df)))  \n",
        "    x_dim = int(math.sqrt(num_neurons))  \n",
        "    y_dim = int(num_neurons / x_dim)\n",
        "\n",
        "    som = MiniSom(x=x_dim, y=y_dim, input_len=X_scaled.shape[1], sigma=0.5, learning_rate=0.3, random_seed=42)  \n",
        "    som.train_random(X_scaled, 100)  \n",
        "    som_embedding = np.array([som.winner(x) for x in X_scaled]) \n",
        "\n",
        "    best_model_dict = {}\n",
        "\n",
        "    for name, model in models.items():\n",
        "        print(f\"\\n🔹 Training and Evaluating {name}:\")\n",
        "        start_time = time()\n",
        "\n",
        "        if name == \"DBSCAN\":\n",
        "            data = pca_embedding\n",
        "        elif name == \"SOM_Compatible_Clustering\":\n",
        "            data = som_embedding  \n",
        "        else:\n",
        "            data = umap_embedding\n",
        "\n",
        "        random_search = RandomizedSearchCV(estimator=model, param_distributions=param_distributions[name],\n",
        "                                           n_iter=n_iter, cv=5, scoring=clustering_score, n_jobs=5)\n",
        "        random_search.fit(data)\n",
        "\n",
        "        best_model = random_search.best_estimator_\n",
        "        best_params = random_search.best_params_\n",
        "        labels = best_model.fit_predict(data)\n",
        "        score = clustering_score(best_model, data)\n",
        "        best_model_name= name\n",
        "\n",
        "        print(f\"{name}: Score = {score:.4f}\")\n",
        "        end_time = time()\n",
        "        print(f\"Training time for {name}: {end_time - start_time:.2f} seconds\")\n",
        "              \n",
        "        best_model_dict[name] = {'model': best_model, 'params': best_params, 'labels': labels, 'score': score}\n",
        "\n",
        "    best_model_info = best_model_dict[max(best_model_dict, key=lambda x: best_model_dict[x]['score'])]\n",
        "\n",
        "    print(f\"\\n🏆 Best model: {best_model_info['model']}, Silhouette Score: {best_model_info['score']:.4f}\")\n",
        "\n",
        "    project_dir = os.path.abspath(os.path.join(os.getcwd(), os.pardir))\n",
        "    model_dir = os.path.join(project_dir, \"models\")\n",
        "    os.makedirs(model_dir, exist_ok=True)\n",
        "\n",
        "    best_model_path = os.path.join(model_dir, \"best_clustering_model.pkl\")\n",
        "    joblib.dump(best_model_info['model'], best_model_path)\n",
        "\n",
        "    if best_model_name ==\"SOM_Compatible_Clustering\":\n",
        "        plot_som_hits(som, X_scaled)"
      ]
    },
    {
      "cell_type": "markdown",
      "metadata": {},
      "source": [
        "Now, let's define the models and their hyperparameter search spaces:"
      ]
    },
    {
      "cell_type": "code",
      "execution_count": 34,
      "metadata": {
        "id": "IA4O-mqzk06J"
      },
      "outputs": [],
      "source": [
        "param_distributions = {\n",
        "    \n",
        "    'K-Means': {\n",
        "        'n_clusters' : randint(1,50),\n",
        "        'init': ['k-means++', 'random'],\n",
        "        'n_init' : randint(1,15),\n",
        "        'max_iter' : randint(100,300),\n",
        "               },\n",
        "    'DBSCAN': {\n",
        "        'eps': uniform(0.1, 5),\n",
        "        'min_samples': randint(5, 15),\n",
        "        'metric': ['euclidean', 'manhattan', 'chebyshev', 'minkowski'],\n",
        "        'algorithm': ['auto', 'ball_tree', 'kd_tree', 'brute'],\n",
        "        'leaf_size': randint(10, 40),\n",
        "               },\n",
        "\n",
        "    'Agglomerative':{\n",
        "        'n_clusters' : randint(5, 20),\n",
        "        'metric': ['euclidean', 'l1', 'l2', 'manhattan', 'cosine'],\n",
        "        'linkage': ['ward', 'complete', 'average', 'single'],\n",
        "                    },\n",
        "\n",
        "\n",
        "    'Gaussian Mixture':{\n",
        "        'n_components': randint(2, 15),\n",
        "        'covariance_type': ['full', 'tied', 'diag', 'spherical'],\n",
        "        'tol': uniform(0.1, 1),\n",
        "        'reg_covar': uniform(0.01, 1),\n",
        "        'max_iter': randint(100, 300),\n",
        "        'n_init': randint(1, 10),\n",
        "        'init_params':['kmeans', 'k-means++', 'random', 'random_from_data']\n",
        "                        },\n",
        "\n",
        "    'SOM_Compatible_Clustering': {\n",
        "        'eps': uniform(0.1, 5),\n",
        "        'min_samples': randint(5, 15),\n",
        "        'metric': ['euclidean', 'manhattan', 'chebyshev', 'minkowski'],\n",
        "        'algorithm': ['auto', 'ball_tree', 'kd_tree', 'brute'],\n",
        "        'leaf_size': randint(10, 40),\n",
        "               }\n",
        "}\n",
        "\n",
        "models = {\n",
        "    'K-Means': KMeans(),\n",
        "    'DBSCAN': DBSCAN(),\n",
        "    'Agglomerative': AgglomerativeClustering(),\n",
        "    'Gaussian Mixture': GaussianMixture(),\n",
        "    'SOM_Compatible_Clustering': DBSCAN()\n",
        "}"
      ]
    },
    {
      "cell_type": "markdown",
      "metadata": {},
      "source": [
        "Use the defined function"
      ]
    },
    {
      "cell_type": "code",
      "execution_count": 35,
      "metadata": {},
      "outputs": [],
      "source": [
        "df_ml_sample=df_ml.sample(round(df_ml.shape[0]*0.25))"
      ]
    },
    {
      "cell_type": "code",
      "execution_count": 46,
      "metadata": {},
      "outputs": [
        {
          "name": "stdout",
          "output_type": "stream",
          "text": [
            "Sample size: 2892\n",
            "Number of iteration: 10\n",
            "\n",
            "🔹 Training and Evaluating K-Means:\n",
            "K-Means: Score = 0.6379\n",
            "Training time for K-Means: 2.66 seconds\n",
            "\n",
            "🔹 Training and Evaluating DBSCAN:\n",
            "DBSCAN: Score = 0.7029\n",
            "Training time for DBSCAN: 2.16 seconds\n",
            "\n",
            "🔹 Training and Evaluating Agglomerative:\n",
            "Agglomerative: Score = 0.5883\n",
            "Training time for Agglomerative: 2.64 seconds\n",
            "\n",
            "🔹 Training and Evaluating Gaussian Mixture:\n",
            "Gaussian Mixture: Score = 0.5986\n",
            "Training time for Gaussian Mixture: 1.53 seconds\n",
            "\n",
            "🔹 Training and Evaluating SOM_Compatible_Clustering:\n",
            "SOM_Compatible_Clustering: Score = 0.8700\n",
            "Training time for SOM_Compatible_Clustering: 1.11 seconds\n",
            "\n",
            "🏆 Best model: DBSCAN(algorithm='ball_tree', eps=0.8924375029794422, leaf_size=38), Silhouette Score: 0.8700\n"
          ]
        },
        {
          "data": {
            "image/png": "[encoded data removed]",
            "text/plain": [
              "<Figure size 600x600 with 2 Axes>"
            ]
          },
          "metadata": {},
          "output_type": "display_data"
        }
      ],
      "source": [
        "n_iter=10\n",
        "\n",
        "print(f\"Sample size: {df_ml_sample.shape[0]}\")\n",
        "print(f\"Number of iteration: {n_iter}\")\n",
        "\n",
        "scale_train_and_evaluate_models(df_ml_sample, models, param_distributions, n_iter)"
      ]
    },
    {
      "cell_type": "markdown",
      "metadata": {},
      "source": [
        "We see that DBSCAN with SOM has the best score, so we apply the defined function only to this model with the expanded data and increased iterations, which helps avoid overfitting:"
      ]
    },
    {
      "cell_type": "code",
      "execution_count": 47,
      "metadata": {
        "id": "cI3TDvC8k06M"
      },
      "outputs": [],
      "source": [
        "param_distributions_2 = { \n",
        "\n",
        "    'SOM_Compatible_Clustering': {\n",
        "        'eps': uniform(0.1, 5),\n",
        "        'min_samples': randint(5, 15),\n",
        "        'metric': ['euclidean', 'manhattan', 'chebyshev', 'minkowski'],\n",
        "        'algorithm': ['auto', 'ball_tree', 'kd_tree', 'brute'],\n",
        "        'leaf_size': randint(10, 40),\n",
        "               }\n",
        "    }\n",
        "\n",
        "\n",
        "\n",
        "final_model = {'SOM_Compatible_Clustering': DBSCAN()}"
      ]
    },
    {
      "cell_type": "code",
      "execution_count": 48,
      "metadata": {},
      "outputs": [
        {
          "name": "stdout",
          "output_type": "stream",
          "text": [
            "Data size: 11567\n",
            "Number of iteration: 100\n",
            "\n",
            "🔹 Training and Evaluating SOM_Compatible_Clustering:\n",
            "SOM_Compatible_Clustering: Score = 0.9195\n",
            "Training time for SOM_Compatible_Clustering: 77.09 seconds\n",
            "\n",
            "🏆 Best model: DBSCAN(algorithm='kd_tree', eps=0.6534751943867166, leaf_size=17), Silhouette Score: 0.9195\n"
          ]
        },
        {
          "data": {
            "image/png": "[encoded data removed]",
            "text/plain": [
              "<Figure size 600x600 with 2 Axes>"
            ]
          },
          "metadata": {},
          "output_type": "display_data"
        }
      ],
      "source": [
        "n_iter_2=100\n",
        "\n",
        "print(f\"Data size: {df_ml.shape[0]}\")\n",
        "print(f\"Number of iteration: {n_iter_2}\")\n",
        "\n",
        "scale_train_and_evaluate_models(df_ml, final_model, param_distributions_2, n_iter_2)"
      ]
    },
    {
      "cell_type": "markdown",
      "metadata": {},
      "source": [
        "We finally get a model with the best score and reduced overfitting."
      ]
    }
  ],
  "metadata": {
    "colab": {
      "provenance": []
    },
    "kernelspec": {
      "display_name": "DAP",
      "language": "python",
      "name": "python3"
    },
    "language_info": {
      "codemirror_mode": {
        "name": "ipython",
        "version": 3
      },
      "file_extension": ".py",
      "mimetype": "text/x-python",
      "name": "python",
      "nbconvert_exporter": "python",
      "pygments_lexer": "ipython3",
      "version": "3.11.5"
    }
  },
  "nbformat": 4,
  "nbformat_minor": 0
}
